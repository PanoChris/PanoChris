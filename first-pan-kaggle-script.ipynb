{
 "cells": [
  {
   "cell_type": "code",
   "execution_count": 1,
   "id": "bc0cebf1",
   "metadata": {
    "_cell_guid": "b1076dfc-b9ad-4769-8c92-a6c4dae69d19",
    "_uuid": "8f2839f25d086af736a60e9eeb907d3b93b6e0e5",
    "execution": {
     "iopub.execute_input": "2022-04-08T17:04:14.069229Z",
     "iopub.status.busy": "2022-04-08T17:04:14.068407Z",
     "iopub.status.idle": "2022-04-08T17:04:14.072900Z",
     "shell.execute_reply": "2022-04-08T17:04:14.072126Z",
     "shell.execute_reply.started": "2022-04-08T16:59:11.968029Z"
    },
    "papermill": {
     "duration": 0.020759,
     "end_time": "2022-04-08T17:04:14.073092",
     "exception": false,
     "start_time": "2022-04-08T17:04:14.052333",
     "status": "completed"
    },
    "tags": []
   },
   "outputs": [],
   "source": [
    "# This Python 3 environment comes with many helpful analytics libraries installed\n",
    "# It is defined by the kaggle/python Docker image: https://github.com/kaggle/docker-python\n",
    "# For example, here's several helpful packages to load\n",
    "\n",
    "import numpy as np # linear algebra\n",
    "import pandas as pd # data processing, CSV file I/O (e.g. pd.read_csv)\n",
    "\n",
    "# Input data files are available in the read-only \"../input/\" directory\n",
    "# For example, running this (by clicking run or pressing Shift+Enter) will list all files under the input directory\n",
    "\n",
    "import os\n",
    "for dirname, _, filenames in os.walk('/kaggle/input'):\n",
    "    for filename in filenames:\n",
    "        print(os.path.join(dirname, filename))\n",
    "\n",
    "# You can write up to 20GB to the current directory (/kaggle/working/) that gets preserved as output when you create a version using \"Save & Run All\" \n",
    "# You can also write temporary files to /kaggle/temp/, but they won't be saved outside of the current session"
   ]
  },
  {
   "cell_type": "code",
   "execution_count": 2,
   "id": "8e58fc72",
   "metadata": {
    "execution": {
     "iopub.execute_input": "2022-04-08T17:04:14.086368Z",
     "iopub.status.busy": "2022-04-08T17:04:14.084071Z",
     "iopub.status.idle": "2022-04-08T17:04:14.093691Z",
     "shell.execute_reply": "2022-04-08T17:04:14.092988Z",
     "shell.execute_reply.started": "2022-04-08T16:59:11.945392Z"
    },
    "papermill": {
     "duration": 0.016564,
     "end_time": "2022-04-08T17:04:14.093843",
     "exception": false,
     "start_time": "2022-04-08T17:04:14.077279",
     "status": "completed"
    },
    "tags": []
   },
   "outputs": [
    {
     "name": "stdout",
     "output_type": "stream",
     "text": [
      "-20\n",
      "-15\n",
      "-10\n",
      "-5\n",
      "0\n",
      "5\n",
      "10\n",
      "15\n",
      "20\n",
      "25\n",
      "30\n",
      "35\n",
      "40\n",
      "45\n",
      "hello\n"
     ]
    }
   ],
   "source": [
    "def test(x):\n",
    "    while x<50:\n",
    "        print (x)\n",
    "        x +=5\n",
    "\n",
    "test(-20)\n",
    "print('hello')"
   ]
  }
 ],
 "metadata": {
  "kernelspec": {
   "display_name": "Python 3",
   "language": "python",
   "name": "python3"
  },
  "language_info": {
   "codemirror_mode": {
    "name": "ipython",
    "version": 3
   },
   "file_extension": ".py",
   "mimetype": "text/x-python",
   "name": "python",
   "nbconvert_exporter": "python",
   "pygments_lexer": "ipython3",
   "version": "3.7.12"
  },
  "papermill": {
   "default_parameters": {},
   "duration": 11.935335,
   "end_time": "2022-04-08T17:04:14.709291",
   "environment_variables": {},
   "exception": null,
   "input_path": "__notebook__.ipynb",
   "output_path": "__notebook__.ipynb",
   "parameters": {},
   "start_time": "2022-04-08T17:04:02.773956",
   "version": "2.3.3"
  }
 },
 "nbformat": 4,
 "nbformat_minor": 5
}
